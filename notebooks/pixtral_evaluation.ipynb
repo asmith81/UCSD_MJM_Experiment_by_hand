{
 "cells": [
  {
   "cell_type": "markdown",
   "metadata": {},
   "source": [
    "### Install Basic Requirements"
   ]
  },
  {
   "cell_type": "code",
   "execution_count": null,
   "metadata": {},
   "outputs": [],
   "source": [
    "# Install core requirements\n",
    "%cd ..\n",
    "!pip install -q -r requirements.txt\n"
   ]
  },
  {
   "cell_type": "markdown",
   "metadata": {},
   "source": [
    "### Establish Paths"
   ]
  },
  {
   "cell_type": "code",
   "execution_count": null,
   "metadata": {},
   "outputs": [],
   "source": [
    "import os\n",
    "from pathlib import Path\n",
    "from src.path import PathRepository, PathValidator\n",
    "\n",
    "def find_project_root() -> Path:\n",
    "    \"\"\"Find the project root by looking for the src directory.\"\"\"\n",
    "    # Start from the current directory\n",
    "    current = Path.cwd()\n",
    "    \n",
    "    # Look for src directory in current and parent directories\n",
    "    while current != current.parent:\n",
    "        if (current / \"src\").exists() and \\\n",
    "           (current / \"config\").exists() and \\\n",
    "           (current / \"notebooks\").exists():\n",
    "            return current\n",
    "        current = current.parent\n",
    "    \n",
    "    raise RuntimeError(\"Could not find project root directory. Expected to find src/, config/, and notebooks/ directories.\")\n",
    "\n",
    "try:\n",
    "    # Find project root automatically\n",
    "    project_root = find_project_root()\n",
    "    print(f\"🔍 Found project root at: {project_root}\")\n",
    "    \n",
    "    # Set up environment variables\n",
    "    os.environ[\"PROJECT_ROOT\"] = str(project_root)\n",
    "    os.environ[\"USER_HOME\"] = str(Path.home())\n",
    "    os.environ[\"TEMP_DIR\"] = str(Path(os.getenv(\"TEMP\", \"/tmp\")))\n",
    "    \n",
    "    # Initialize path system\n",
    "    print(\"🔄 Initializing path system...\")\n",
    "    paths = PathRepository.get_instance()\n",
    "    \n",
    "    # Validate paths\n",
    "    print(\"🔍 Validating paths...\")\n",
    "    validator = PathValidator(paths.get_path(\"project_root\"))\n",
    "    validation_results = validator.validate_all_paths(paths.get_all_paths())\n",
    "    \n",
    "    # Create directories\n",
    "    print(\"📁 Creating required directories...\")\n",
    "    paths.ensure_directories()\n",
    "    \n",
    "    # Display key paths\n",
    "    print(\"\\n✨ Path system initialized successfully!\")\n",
    "    print(\"\\nKey project paths:\")\n",
    "    print(f\"📂 Project Root: {paths.get_path('project_root')}\")\n",
    "    print(f\"�� Model Directory: {paths.get_path('models_pixtral')}\")\n",
    "    print(f\"📊 Data Directory: {paths.get_path('data_input')}\")\n",
    "    print(f\"📝 Log Directory: {paths.get_path('logs')}\")\n",
    "    \n",
    "except Exception as e:\n",
    "    print(f\"❌ Error initializing path system: {str(e)}\")\n",
    "    print(\"Please check your environment configuration and try again.\")"
   ]
  },
  {
   "cell_type": "markdown",
   "metadata": {},
   "source": [
    "### Install Torch for ML "
   ]
  },
  {
   "cell_type": "code",
   "execution_count": null,
   "metadata": {},
   "outputs": [],
   "source": [
    "\n",
    "# Install PyTorch separately with CUDA support\n",
    "!pip install torch==2.1.0 torchvision==0.16.0 torchaudio==2.1.0 --index-url https://download.pytorch.org/whl/cu118\n",
    "\n",
    "# Verify installation\n",
    "import torch\n",
    "print(f\"PyTorch version: {torch.__version__}\")\n",
    "print(f\"CUDA available: {torch.cuda.is_available()}\")\n",
    "if torch.cuda.is_available():\n",
    "    print(f\"CUDA version: {torch.version.cuda}\")\n",
    "    print(f\"Current device: {torch.cuda.current_device()}\")\n",
    "    print(f\"Device name: {torch.cuda.get_device_name(0)}\")"
   ]
  },
  {
   "cell_type": "markdown",
   "metadata": {},
   "source": [
    "## Config Env and Download Model"
   ]
  },
  {
   "cell_type": "code",
   "execution_count": null,
   "metadata": {},
   "outputs": [],
   "source": [
    "from pathlib import Path\n",
    "from src.model.setup import setup_environment\n",
    "\n",
    "# Set up paths\n",
    "config_path = Path(\"config/models/pixtral.yaml\")\n",
    "model_path = Path(\"models/pixtral-12b\")\n",
    "\n",
    "# Run setup\n",
    "status = setup_environment()\n",
    "\n",
    "# Check results\n",
    "print(f\"Setup status: {status['status']}\")\n",
    "print(f\"Model path: {status['model_path']}\")\n",
    "print(f\"Hardware status: {status['hardware_status']}\")"
   ]
  },
  {
   "cell_type": "markdown",
   "metadata": {},
   "source": [
    "## Load Prompt and Run Model"
   ]
  },
  {
   "cell_type": "markdown",
   "metadata": {},
   "source": [
    "### Chose Variables"
   ]
  },
  {
   "cell_type": "code",
   "execution_count": null,
   "metadata": {},
   "outputs": [],
   "source": [
    "from src.prompt.config import PromptConfigurationManager\n",
    "from IPython.display import display, Markdown\n",
    "\n",
    "# Display header\n",
    "display(Markdown(\"## 🧾 Invoice Data Extraction Configuration\"))\n",
    "\n",
    "# Initialize and display configuration manager\n",
    "config_manager = PromptConfigurationManager()\n",
    "config_manager.display()\n",
    "\n",
    "# Store the configuration for later use\n",
    "config = config_manager.get_config()"
   ]
  },
  {
   "cell_type": "markdown",
   "metadata": {},
   "source": [
    "### Run Model"
   ]
  },
  {
   "cell_type": "code",
   "execution_count": null,
   "metadata": {},
   "outputs": [],
   "source": [
    "# Process Images with Selected Configuration\n",
    "from pathlib import Path\n",
    "from src.prompt.batch_processor import BatchProcessor\n",
    "from src.path.repository import PathRepository\n",
    "\n",
    "# Get paths\n",
    "paths = PathRepository.get_instance()\n",
    "model_path = paths.get_model_path(\"pixtral\")\n",
    "image_dir = Path(\"data/images\")\n",
    "\n",
    "# Initialize batch processor\n",
    "processor = BatchProcessor(model_path)\n",
    "\n",
    "# Process images and log results\n",
    "log_file = Path(\"logs/batch_processing.log\")\n",
    "processor.process_and_log(\n",
    "    image_dir=image_dir,\n",
    "    prompt_name=config['prompt_name'],\n",
    "    quantization=config['quantization'],\n",
    "    log_file=log_file\n",
    ")\n",
    "\n",
    "print(f\"Processing complete. Results logged to {log_file}\")"
   ]
  },
  {
   "cell_type": "markdown",
   "metadata": {},
   "source": []
  }
 ],
 "metadata": {
  "language_info": {
   "name": "python"
  }
 },
 "nbformat": 4,
 "nbformat_minor": 2
}
